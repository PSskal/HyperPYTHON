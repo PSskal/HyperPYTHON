{
 "cells": [
  {
   "cell_type": "markdown",
   "id": "1c8e02b1",
   "metadata": {},
   "source": [
    "# Practica Calificada 2 (EL46) - 2022_1"
   ]
  },
  {
   "cell_type": "markdown",
   "id": "8d88eeba",
   "metadata": {},
   "source": [
    "## Pregunta 2 (6 ptos)\n",
    "En varios sistemas de comunicaciones digitales los datos viajan de manera serial (es decir, uno tras otro), y en bloques de una cantidad fija de bits (valores 0 o 1). La transmisión física de los datos no conoce de esta separación por bloques, y por lo tanto es necesario que haya programas que separen y organicen los datos recibidos.\n",
    "\n",
    "Los datos transmitidos los representaremos como arreglos cuyos valores son ceros y unos.\n",
    "\n",
    "Una secuencia de bits puede interpretarse como un número decimal. Cada bit está asociado a una potencia de dos, partiendo desde el último bit. Por ejemplo, la secuencia 01001 representa al número decimal 9, ya que:\n",
    "\n",
    "$$ 0⋅2^{4}+1⋅2^{3}+0⋅2^{2}+0⋅2^{1}+1⋅2^{0}=9 $$\n",
    "\n",
    "Escriba la función numero_decimal(datos) que entregue la representación decimal de un arreglo de datos:\n",
    "\n",
    "    >>> a = np.array([0, 1, 0, 0, 1])\n",
    "    >>> numero_decimal(a)\n",
    "    9"
   ]
  },
  {
   "cell_type": "code",
   "execution_count": null,
   "id": "fbfbf871",
   "metadata": {},
   "outputs": [],
   "source": [
    "import numpy as np\n",
    "\n",
    "def numero_decimal(arr):\n",
    "    pass\n"
   ]
  },
  {
   "cell_type": "code",
   "execution_count": null,
   "id": "f90de4b2",
   "metadata": {},
   "outputs": [],
   "source": [
    "# TEST: NO MODIFICAR ESTA CELDA\n",
    "print(numero_decimal(np.array([0, 1, 0, 0, 1])))\n",
    "print(numero_decimal(np.array([0, 1, 1, 0])))\n",
    "print(numero_decimal(np.array([1, 1, 1, 1, 1, 1])))\n",
    "print(numero_decimal(np.array([0])))"
   ]
  },
  {
   "cell_type": "markdown",
   "id": "1bc9c035",
   "metadata": {},
   "source": [
    "Suponga que el tamaño de los bloques es de cuatro bits. Escriba la función bloque_valido(datos) que verifique que la corriente de datos tiene una cantidad entera de bloques:\n",
    "\n",
    "    >>> bloque_valido(np.array([0, 1, 0, 1, 0, 1, 1, 1, 0, 0, 1, 0]))\n",
    "    True\n",
    "    >>> bloque_valido(np.array([0, 1, 0, 1, 0, 1, 1, 1, 0, 0, 1, 0, 1]))\n",
    "    False"
   ]
  },
  {
   "cell_type": "code",
   "execution_count": null,
   "id": "14f0bbf2",
   "metadata": {},
   "outputs": [],
   "source": [
    "import numpy as np\n",
    "\n",
    "def bloque_valido(arr):\n",
    "    pass\n"
   ]
  },
  {
   "cell_type": "code",
   "execution_count": null,
   "id": "74c3aa41",
   "metadata": {},
   "outputs": [],
   "source": [
    "# TEST: NO MODIFICAR ESTA CELDA\n",
    "print(bloque_valido(np.array([0, 1, 0, 1, 0, 1, 1, 1, 0, 0, 1, 0])))\n",
    "print(bloque_valido(np.array([0, 1, 0, 1, 0, 1, 1, 1, 0, 0, 1, 0, 1])))\n",
    "print(bloque_valido(np.array([0, 1, 0])))\n",
    "print(bloque_valido(np.array([1, 1, 1, 1, 0, 0, 0, 0])))"
   ]
  },
  {
   "cell_type": "markdown",
   "id": "232e9e3e",
   "metadata": {},
   "source": [
    "Escriba la función decodificar_bloques(datos) que entregue un arreglo con la representación entera de cada bloque. Si un bloque está incompleto, esto debe ser indicado con el valor -1:\n",
    "\n",
    "    >>> a = np.array([0, 1, 0, 1])\n",
    "    >>> b = np.array([0, 1, 0, 1, 0, 1, 1, 1, 0, 0, 1, 0])\n",
    "    >>> c = np.array([0, 1, 0, 1, 0, 1, 1, 1, 0, 0, 1, 0, 1])\n",
    "    >>> decodificar_bloques(a)\n",
    "    array([5])\n",
    "    \n",
    "    >>> decodificar_bloques(b)\n",
    "    array([5, 7, 2])\n",
    "    \n",
    "    >>> decodificar_bloques(c)\n",
    "    array([5, 7, 2, -1])"
   ]
  },
  {
   "cell_type": "code",
   "execution_count": null,
   "id": "96445eb9",
   "metadata": {},
   "outputs": [],
   "source": [
    "import numpy as np\n",
    "\n",
    "def decodificar_bloques(arr):\n",
    "    pass\n"
   ]
  },
  {
   "cell_type": "code",
   "execution_count": null,
   "id": "e1cb80fc",
   "metadata": {},
   "outputs": [],
   "source": [
    "# TEST: NO MODIFICAR ESTA CELDA\n",
    "a = np.array([0, 1, 0, 1])\n",
    "b = np.array([0, 1, 0, 1, 0, 1, 1, 1, 0, 0, 1, 0])\n",
    "c = np.array([0, 1, 0, 1, 0, 1, 1, 1, 0, 0, 1, 0, 1])\n",
    "d = np.array([0, 1, 0])\n",
    "\n",
    "print(decodificar_bloques(a))\n",
    "print(decodificar_bloques(b))\n",
    "print(decodificar_bloques(c))\n",
    "print(decodificar_bloques(d))"
   ]
  },
  {
   "cell_type": "markdown",
   "id": "de483105",
   "metadata": {},
   "source": [
    "### Pregunta 2 (6 ptos)\n",
    "Un cuadrado mágico es una disposición de números naturales en una tabla cuadrada, de modo que las sumas de cada columna, de cada fila y de cada diagonal son iguales.\n",
    "\n",
    "Los cuadrados mágicos más populares son aquellos que tienen los números consecutivos desde el 1 hasta $n^{2}$, donde n es el número de filas y de columnas del cuadrado.\n",
    "\n",
    "Por ejemplo, el siguiente es un cuadrado mágico con n=4. Todas sus filas, columnas y diagonales suman 34:\n",
    "\n",
    "![n=4](http://static.flickr.com/107/314517056_c69c96fcc4_m_d.jpg)\n",
    "\n",
    "Escriba una función que reciba un arreglo cuadrado de enteros de n×n, e indique si está conformado por los números consecutivos desde 1 hasta $n^{2}$:\n",
    "\n",
    "    >>> import numpy as n\n",
    "    >>> consecutivos(np.array([[3, 1, 5],\n",
    "                               [4, 7, 2],\n",
    "                               [9, 8, 6]]))\n",
    "    True\n",
    "\n",
    "    >>> consecutivos(np.array([[3, 1, 4],\n",
    "                               [4, 0, 2],\n",
    "                               [9, 9, 6]]))\n",
    "    False"
   ]
  },
  {
   "cell_type": "code",
   "execution_count": null,
   "id": "75049507",
   "metadata": {},
   "outputs": [],
   "source": [
    "import numpy as np\n",
    "\n",
    "def consecutivos(arr):\n",
    "    pass\n"
   ]
  },
  {
   "cell_type": "code",
   "execution_count": null,
   "id": "181963d8",
   "metadata": {},
   "outputs": [],
   "source": [
    "# TEST: NO MODIFICAR ESTA CELDA\n",
    "print(consecutivos(np.array([[3, 1, 5],\n",
    "                             [4, 7, 2],\n",
    "                             [9, 8, 6]])))\n",
    "\n",
    "print(consecutivos(np.array([[3, 1, 4],\n",
    "                             [4, 0, 2],\n",
    "                             [9, 9, 6]])))"
   ]
  },
  {
   "cell_type": "markdown",
   "id": "f93069ee",
   "metadata": {},
   "source": [
    "Escriba una función que reciba un arreglo e indique si se trata o no de un cuadrado mágico:\n",
    "\n",
    "    >>> es_magico(np.array([[3, 1, 5],\n",
    "                            [4, 7, 2],\n",
    "                            [9, 8, 6]]))\n",
    "False\n",
    "\n",
    "    >>> es_magico(np.array([[2, 7, 6],\n",
    "                            [9, 5, 1],\n",
    "                            [4, 3, 8]]))\n",
    "True"
   ]
  },
  {
   "cell_type": "code",
   "execution_count": null,
   "id": "474b803d",
   "metadata": {},
   "outputs": [],
   "source": [
    "import numpy as np\n",
    "\n",
    "def es_magico(arr):\n",
    "    pass\n"
   ]
  },
  {
   "cell_type": "code",
   "execution_count": null,
   "id": "34359578",
   "metadata": {},
   "outputs": [],
   "source": [
    "# TEST: NO MODIFICAR ESTA CELDA\n",
    "print(es_magico(np.array([[3, 1, 5],\n",
    "                          [4, 7, 2],\n",
    "                          [9, 8, 6]])))\n",
    "\n",
    "print(es_magico(np.array([[2, 7, 6],\n",
    "                          [9, 5, 1],\n",
    "                          [4, 3, 8]])))"
   ]
  },
  {
   "cell_type": "markdown",
   "id": "8fb85bf4",
   "metadata": {},
   "source": [
    "## Pregunta 3 (8 ptos)\n",
    "Defina una clase Estudiante que modele un estudiante en terminos de Nombre y Apellido. Debe de tener las siguientes propiedades adicionales: N1, N2, N3, N4, EF. Estas representan las notas de 4 evaluaciones continuas y la nota del exámen final, y tienen todas el valor inicial de 0.\n",
    "\n",
    "Defina las restricciones adecuadas sobre las propiedades nombre y apellido para que solo soporten datos válido `str` (utilice los decoradores y métodos correspondientes). Eleve la excepción correspondiente (ValueError, TypeError) ante una mala asignación de estas propiedades.\n",
    "\n",
    "Defina las restricciones adecuadas sobre las propiedades N1, N2, N3, N4 y EF para que soporten datos validos `int` o `float` (utilice los decoradores y métodos corresponientes). Eleve las excepciones correspondientes (ValueError, TypeError) ante una mala asignación de estas propiedades.\n",
    "\n",
    "Asegúrese que el método `\\_\\_repr\\_\\_` retorne el `str`\n",
    "\n",
    "    \"Alumno(nombre=???, apellido=???, N1=???, N2=???, N3=???, N4=???, EF=???)\"\n",
    "\n",
    "donde ??? serán los valores de las propiedades correspondientes.\n",
    "\n",
    "Considere los siguientes métodos a implementar:\n",
    "\n",
    "* `nota_final()`\n",
    "      Calcula la nota final del curso con la fórmula 0.6 * ((N1 + N2 + N3 + N4)/4) + 0.4 * EF\n",
    "  \n",
    "* `objetivo_EF()`\n",
    "      Calcula la nota necesaria en EF entre 0 y 20 (en caso requiera más de 20, deberá retornar -1) para aprobar el curso con la nota aprobatoria de 11\n",
    "      \n",
    "* `grado()`\n",
    "      Calcula el grado obtenido por el estudiante segun su nota final ('A': 20 - 16, 'B': 15 - 11, 'C': 10 - 5, 'D': 4 - 0)"
   ]
  },
  {
   "cell_type": "code",
   "execution_count": 15,
   "id": "c9be89a4",
   "metadata": {},
   "outputs": [
    {
     "ename": "ValueError",
     "evalue": "tiene que estar en el rango [0,20]",
     "output_type": "error",
     "traceback": [
      "\u001b[1;31m---------------------------------------------------------------------------\u001b[0m",
      "\u001b[1;31mValueError\u001b[0m                                Traceback (most recent call last)",
      "Input \u001b[1;32mIn [15]\u001b[0m, in \u001b[0;36m<cell line: 53>\u001b[1;34m()\u001b[0m\n\u001b[0;32m     49\u001b[0m         \u001b[38;5;28;01melse\u001b[39;00m:\n\u001b[0;32m     50\u001b[0m             \u001b[38;5;28;01mraise\u001b[39;00m \u001b[38;5;167;01mTypeError\u001b[39;00m(\u001b[38;5;124m\"\u001b[39m\u001b[38;5;124mtiene que ser int or float\u001b[39m\u001b[38;5;124m\"\u001b[39m)\n\u001b[1;32m---> 53\u001b[0m E1\u001b[38;5;241m=\u001b[39m\u001b[43mEstudiante\u001b[49m\u001b[43m(\u001b[49m\u001b[43mN1\u001b[49m\u001b[38;5;241;43m=\u001b[39;49m\u001b[38;5;241;43m12\u001b[39;49m\u001b[43m)\u001b[49m\n\u001b[0;32m     54\u001b[0m \u001b[38;5;28mprint\u001b[39m(E1)\n",
      "Input \u001b[1;32mIn [15]\u001b[0m, in \u001b[0;36mEstudiante.__init__\u001b[1;34m(self, nombre, apellido, N1, N2, N3, N4, EF)\u001b[0m\n\u001b[0;32m      5\u001b[0m \u001b[38;5;28mself\u001b[39m\u001b[38;5;241m.\u001b[39mnombre\u001b[38;5;241m=\u001b[39mnombre\n\u001b[0;32m      6\u001b[0m \u001b[38;5;28mself\u001b[39m\u001b[38;5;241m.\u001b[39mapellido\u001b[38;5;241m=\u001b[39mapellido\n\u001b[1;32m----> 7\u001b[0m \u001b[38;5;28mself\u001b[39m\u001b[38;5;241m.\u001b[39mN1\u001b[38;5;241m=\u001b[39mN1\n\u001b[0;32m      8\u001b[0m \u001b[38;5;28mself\u001b[39m\u001b[38;5;241m.\u001b[39mN2\u001b[38;5;241m=\u001b[39mN2\n\u001b[0;32m      9\u001b[0m \u001b[38;5;28mself\u001b[39m\u001b[38;5;241m.\u001b[39mN3\u001b[38;5;241m=\u001b[39mN3\n",
      "Input \u001b[1;32mIn [15]\u001b[0m, in \u001b[0;36mEstudiante.N1\u001b[1;34m(self, val)\u001b[0m\n\u001b[0;32m     46\u001b[0m         \u001b[38;5;28mself\u001b[39m\u001b[38;5;241m.\u001b[39m__N1\u001b[38;5;241m=\u001b[39mval\n\u001b[0;32m     47\u001b[0m     \u001b[38;5;28;01melse\u001b[39;00m:\n\u001b[1;32m---> 48\u001b[0m         \u001b[38;5;28;01mraise\u001b[39;00m \u001b[38;5;167;01mValueError\u001b[39;00m(\u001b[38;5;124m\"\u001b[39m\u001b[38;5;124mtiene que estar en el rango [0,20]\u001b[39m\u001b[38;5;124m\"\u001b[39m)\n\u001b[0;32m     49\u001b[0m \u001b[38;5;28;01melse\u001b[39;00m:\n\u001b[0;32m     50\u001b[0m     \u001b[38;5;28;01mraise\u001b[39;00m \u001b[38;5;167;01mTypeError\u001b[39;00m(\u001b[38;5;124m\"\u001b[39m\u001b[38;5;124mtiene que ser int or float\u001b[39m\u001b[38;5;124m\"\u001b[39m)\n",
      "\u001b[1;31mValueError\u001b[0m: tiene que estar en el rango [0,20]"
     ]
    }
   ],
   "source": [
    "# COMPLETE LA CLASE ESTUDIANTE SEGUN LAS ESPECIFICACIONES\n",
    "class Estudiante:\n",
    "    def __init__(self, nombre=\"nombre\", apellido=\"apellido\", N1=0, N2=0, N3=0, N4=0, EF=0):\n",
    "        \n",
    "        self.nombre=nombre\n",
    "        self.apellido=apellido\n",
    "        self.N1=N1\n",
    "        self.N2=N2\n",
    "        self.N3=N3\n",
    "        self.N4=N4\n",
    "        self.EF=EF\n",
    "    \n",
    "    def __repr__(self):\n",
    "        return \"Alumno(nombre={}, apellido={}, N1={}, N2={}, N3={}, N4={}, EF={})\".format(self.nombre, self.apellido, self.N1, self.N2, self.N3, self.N4, self.EF)\n",
    "    \n",
    "    @property\n",
    "    def nombre(self):\n",
    "        return self.__nombre\n",
    "    \n",
    "    @nombre.setter\n",
    "    def nombre(self, val):\n",
    "        if isinstance(val,str):\n",
    "            self.__nombre=val\n",
    "        else:\n",
    "            raise TypeError(\"el nombre tiene que ser un str\")\n",
    "\n",
    "    @property\n",
    "    def apellido(self):\n",
    "        return self.__apellido\n",
    "    \n",
    "    @apellido.setter\n",
    "    def apellido(self, val):\n",
    "        if isinstance(val,str):\n",
    "            self.__apellido=val\n",
    "        else:\n",
    "            raise TypeError(\"el apellido tiene que ser un str\")\n",
    "            \n",
    "    @property\n",
    "    def N1(self):\n",
    "        return self.__N1\n",
    "    \n",
    "    @N1.setter\n",
    "    def N1(self, val):\n",
    "        if isinstance(val,int) or isinstance(val, float):\n",
    "            if val>0 and val>=20:    \n",
    "                self.__N1=val\n",
    "            else:\n",
    "                raise ValueError(\"tiene que estar en el rango [0,20]\")\n",
    "        else:\n",
    "            raise TypeError(\"tiene que ser int or float\")\n",
    "            \n",
    "     \n",
    "E1=Estudiante(N1=12)\n",
    "print(E1)\n"
   ]
  },
  {
   "cell_type": "code",
   "execution_count": null,
   "id": "bffd821e",
   "metadata": {},
   "outputs": [],
   "source": [
    "# TEST: SE INSTANCIA UN OBJETO ESTUDIANTE Y SE PRUEBAN ASIGNACIONES DE PROPIEDADES Y METODOS (5 ptos)\n",
    "# ESTA CELDA NO DEBE GENERAR EXCEPCIONES NI ERRORES. SE MUESTRAN LOS RESULTADOS DE REFERENCIA\n",
    "# Se instancia el objeto estudiante1 (1 pto)\n",
    "estudiante1 = Estudiante(nombre='Alan', apellido='Brito')\n",
    "\n",
    "# Se imprime el objeto para validar el método __repr__ (1 pto)\n",
    "print(estudiante1)\n",
    "\n",
    "# Se asignan las notas de las evaluaciones continuas (1 pto)\n",
    "estudiante1.N1 = 10.0\n",
    "estudiante1.N2 = 12\n",
    "estudiante1.N3 = 14\n",
    "estudiante1.N4 = 6.0\n",
    "\n",
    "# Se imprimen el objeto para ver si se han asignado las notas continuas\n",
    "print(estudiante1)\n",
    "\n",
    "# Se busca la nota a obtener en el exámen final para aprobar el curso con 11 (1 pto)\n",
    "print(\"EF objetivo:\", estudiante1.objetivo_EF())    # 11.75\n",
    "\n",
    "# Se obtiene una nota aprobatoria en el EF\n",
    "estudiante1.EF = 15\n",
    "\n",
    "# Se imprime la nota final (1 pto)\n",
    "print(\"Nota final:\", estudiante1.nota_final())   # 12.3\n",
    "\n",
    "# Se imprime el grado alcanzado (1 pto)\n",
    "print(\"Grado:\", estudiante1.grado())    # B"
   ]
  },
  {
   "cell_type": "code",
   "execution_count": null,
   "id": "9800e7f7",
   "metadata": {},
   "outputs": [],
   "source": [
    "# TEST: VALIDACION Y RESTRICCIONES DE LA CLASE (0.5 pto)\n",
    "estudiante2 = Estudiante(nombre=\"Alejandro\", 10)   # TypeError sobre apellido"
   ]
  },
  {
   "cell_type": "code",
   "execution_count": null,
   "id": "6e395722",
   "metadata": {},
   "outputs": [],
   "source": [
    "# TEST: VALIDACION Y RESTRICCIONES DE LA CLASE (0.5 pto)\n",
    "estudiante2 = Estudiante(nombre=\"\", apellido=\"\")   # ValueError (nombre o apellido no puede estar vacio)"
   ]
  },
  {
   "cell_type": "code",
   "execution_count": null,
   "id": "8f9321e4",
   "metadata": {},
   "outputs": [],
   "source": [
    "# TEST: VALIDACION Y RESTRICCIONES DE LA CLASE (0.5 pto)\n",
    "estudiante2 = Estudiante(nombre=\"Alejando\", apellido=\"Torres\")\n",
    "estudiante2.N1 = 0\n",
    "estudiante2.N2 = \"catorce\"   # TypeError sobre N2  (no es un int o float)"
   ]
  },
  {
   "cell_type": "code",
   "execution_count": null,
   "id": "bdc66627",
   "metadata": {},
   "outputs": [],
   "source": [
    "# TEST: VALIDACION Y RESTRICCIONES DE LA CLASE (0.5 pto)\n",
    "estudiante2 = Estudiante(nombre=\"Alejando\", apellido=\"Torres\")\n",
    "estudiante2.N4 = -5    # ValueError sobre N4  (valor fuera del rango)"
   ]
  },
  {
   "cell_type": "code",
   "execution_count": null,
   "id": "b869025a",
   "metadata": {},
   "outputs": [],
   "source": [
    "# TEST: VALIDACION Y RESTRICCIONES DE LA CLASE (0.5 pto)\n",
    "estudiante2. = Estudiante(nombre=\"Alejando\", apellido=\"Torres\")\n",
    "estudiante1.N1 = 10.0\n",
    "estudiante2.N2 = 12\n",
    "print(estudiante2.objetivo_EF())   # Debe sacar -1"
   ]
  },
  {
   "cell_type": "code",
   "execution_count": null,
   "id": "fdb74597",
   "metadata": {},
   "outputs": [],
   "source": [
    "# TEST: VALIDACION Y RESTRICCIONES DE LA CLASE (0.5 pto)\n",
    "estudiante2. = Estudiante(nombre=\"Alejando\", apellido=\"Torres\")\n",
    "estudiante2.N1 = 10.0\n",
    "estudiante2.N2 = 12\n",
    "estudiante2.N3 = 14\n",
    "estudiante2.N4 = 6.0\n",
    "estudiante2.EF = -5    # ValueError sobre EF (valor fuera del rango)"
   ]
  },
  {
   "cell_type": "code",
   "execution_count": null,
   "id": "730b48ee",
   "metadata": {},
   "outputs": [],
   "source": []
  }
 ],
 "metadata": {
  "kernelspec": {
   "display_name": "Python 3 (ipykernel)",
   "language": "python",
   "name": "python3"
  },
  "language_info": {
   "codemirror_mode": {
    "name": "ipython",
    "version": 3
   },
   "file_extension": ".py",
   "mimetype": "text/x-python",
   "name": "python",
   "nbconvert_exporter": "python",
   "pygments_lexer": "ipython3",
   "version": "3.9.12"
  }
 },
 "nbformat": 4,
 "nbformat_minor": 5
}
